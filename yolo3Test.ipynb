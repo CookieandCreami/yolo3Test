{
  "nbformat": 4,
  "nbformat_minor": 0,
  "metadata": {
    "colab": {
      "provenance": [],
      "mount_file_id": "1Tl2ccsQ31cg4y95-EoU9pkvf76DEe1fQ",
      "authorship_tag": "ABX9TyNEU7RgbXDNU4P6SwMBu0jB",
      "include_colab_link": true
    },
    "kernelspec": {
      "name": "python3",
      "display_name": "Python 3"
    },
    "language_info": {
      "name": "python"
    }
  },
  "cells": [
    {
      "cell_type": "markdown",
      "metadata": {
        "id": "view-in-github",
        "colab_type": "text"
      },
      "source": [
        "<a href=\"https://colab.research.google.com/github/CookieandCreami/yolo3Test/blob/main/yolo3Test.ipynb\" target=\"_parent\"><img src=\"https://colab.research.google.com/assets/colab-badge.svg\" alt=\"Open In Colab\"/></a>"
      ]
    },
    {
      "cell_type": "code",
      "execution_count": null,
      "metadata": {
        "id": "gktgGt8GF9_J",
        "colab": {
          "base_uri": "https://localhost:8080/"
        },
        "outputId": "94f729bf-95ad-46d7-b71d-157b5e25e34b"
      },
      "outputs": [
        {
          "output_type": "stream",
          "name": "stdout",
          "text": [
            "Cloning into 'yolov3-tf2'...\n",
            "remote: Enumerating objects: 442, done.\u001b[K\n",
            "remote: Counting objects: 100% (9/9), done.\u001b[K\n",
            "remote: Compressing objects: 100% (7/7), done.\u001b[K\n",
            "remote: Total 442 (delta 3), reused 6 (delta 2), pack-reused 433\u001b[K\n",
            "Receiving objects: 100% (442/442), 4.24 MiB | 29.96 MiB/s, done.\n",
            "Resolving deltas: 100% (251/251), done.\n"
          ]
        }
      ],
      "source": [
        "!git clone https://github.com/zzh8829/yolov3-tf2"
      ]
    },
    {
      "cell_type": "code",
      "source": [],
      "metadata": {
        "id": "61pjQH1rITdi"
      },
      "execution_count": null,
      "outputs": []
    }
  ]
}